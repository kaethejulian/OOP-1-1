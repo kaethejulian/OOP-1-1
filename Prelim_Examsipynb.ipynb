{
  "nbformat": 4,
  "nbformat_minor": 0,
  "metadata": {
    "colab": {
      "name": "Prelim Examsipynb",
      "provenance": [],
      "authorship_tag": "ABX9TyMvLJky/QiG+SHAFUHQVjIq",
      "include_colab_link": true
    },
    "kernelspec": {
      "name": "python3",
      "display_name": "Python 3"
    },
    "language_info": {
      "name": "python"
    }
  },
  "cells": [
    {
      "cell_type": "markdown",
      "metadata": {
        "id": "view-in-github",
        "colab_type": "text"
      },
      "source": [
        "<a href=\"https://colab.research.google.com/github/kaethejulian/OOP-1-1/blob/main/Prelim_Examsipynb.ipynb\" target=\"_parent\"><img src=\"https://colab.research.google.com/assets/colab-badge.svg\" alt=\"Open In Colab\"/></a>"
      ]
    },
    {
      "cell_type": "markdown",
      "source": [
        "\n",
        "Problem 2. (50 points)\n",
        "\n",
        "1.\tWrite a Python to display your full name, student number, age, and course\n",
        "2.\tCreate a class named Student with attributes: Name, Student_No, Age, School, and Course\n",
        "3.\tCreate an object name Myself and assign an instance for each attribute.\n",
        "4.\tCreate a method Info() using an instantiation of a class.\n",
        "5.\tInsert your GitHub link \"Prelim Exam\" from your repository named \"OOP 1-1\"\n"
      ],
      "metadata": {
        "id": "R2qvZ4nc_R0_"
      }
    },
    {
      "cell_type": "code",
      "execution_count": 8,
      "metadata": {
        "colab": {
          "base_uri": "https://localhost:8080/"
        },
        "id": "B_dzkhJ22AhX",
        "outputId": "6810453c-51ff-4ebb-9ce0-3dd8ebe4bbd7"
      },
      "outputs": [
        {
          "output_type": "stream",
          "name": "stdout",
          "text": [
            "My name is Ma.Kaethe Joy A. Julian\n",
            "My student number is 202101036\n",
            "I am 19 years old\n",
            "I am currently studying at Cavite State University Indang Campus\n",
            "I am currently taking BS CPE 1-1\n"
          ]
        }
      ],
      "source": [
        "class Student:\n",
        "  def __init__(self,Name,Student_No,Age,School,Course):\n",
        "    self.Name=Name\n",
        "    self.Student_No=Student_No\n",
        "    self.Age=Age\n",
        "    self.School=School\n",
        "    self.Course=Course\n",
        "  def info(self):\n",
        "    print(self.Name,self.Student_No,self.Age,self.School,self.Course)\n",
        "  def info(self):\n",
        "    print(\"My name is\", self.Name)\n",
        "    print(\"My student number is\", self.Student_No)\n",
        "    print(\"I am\", self.Age,\"years old\")\n",
        "    print(\"I am currently studying at\", self.School)\n",
        "    print(\"I am currently taking\", self.Course)\n",
        "Myself = Student(\"Ma.Kaethe Joy A. Julian\", \"202101036\", \"19\",\"Cavite State University Indang Campus\", \"BS CPE 1-1\")\n",
        "Myself.info()"
      ]
    }
  ]
}