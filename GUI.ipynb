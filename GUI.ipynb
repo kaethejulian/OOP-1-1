{
  "nbformat": 4,
  "nbformat_minor": 0,
  "metadata": {
    "colab": {
      "name": "GUI.ipynb",
      "provenance": [],
      "authorship_tag": "ABX9TyN+QEShADicoEQbfdPGFXAG",
      "include_colab_link": true
    },
    "kernelspec": {
      "name": "python3",
      "display_name": "Python 3"
    },
    "language_info": {
      "name": "python"
    }
  },
  "cells": [
    {
      "cell_type": "markdown",
      "metadata": {
        "id": "view-in-github",
        "colab_type": "text"
      },
      "source": [
        "<a href=\"https://colab.research.google.com/github/kaethejulian/OOP-1-1/blob/main/GUI.ipynb\" target=\"_parent\"><img src=\"https://colab.research.google.com/assets/colab-badge.svg\" alt=\"Open In Colab\"/></a>"
      ]
    },
    {
      "cell_type": "markdown",
      "source": [
        "Students' Grade for OOP subject"
      ],
      "metadata": {
        "id": "dqrptJjIQhJp"
      }
    },
    {
      "cell_type": "code",
      "execution_count": 26,
      "metadata": {
        "colab": {
          "base_uri": "https://localhost:8080/"
        },
        "id": "MQF70j9uQe2e",
        "outputId": "f7a89455-e864-4be3-e908-ea8df662a78a"
      },
      "outputs": [
        {
          "output_type": "stream",
          "name": "stdout",
          "text": [
            "My prelims grade is 90\n",
            "My midterms grade is 95\n",
            "My finals grade is 96\n",
            "My semestral grade is 93.67\n",
            "My gender is \"Female\"\n",
            "My birthdate is 2002-12-04\n"
          ]
        }
      ],
      "source": [
        "#@title Students' Grade in OOP\n",
        "Student_Name = \"Enter the Students' name\" #@param{type:\"string\"}\n",
        "prelims_grade = 90 #@param {type:\"integer\"}\n",
        "midterms_grade = 95 #@param {type:\"integer\"}\n",
        "finals_grade = 96 #@param {type:\"integer\"}\n",
        "semestral_grade = round((prelims_grade + midterms_grade + finals_grade)/3,2)\n",
        "\n",
        "print(\"My prelims grade is \"+ str(prelims_grade))\n",
        "print(\"My midterms grade is \"+ str(midterms_grade))\n",
        "print(\"My finals grade is \"+ str(finals_grade))\n",
        "print(\"My semestral grade is \"+ str(semestral_grade))\n",
        "\n",
        "Gender = \"\\\"Female\\\"\" #@param [\"Male\",\"Female\"]\n",
        "Birthdate = \"2002-12-04\" #@param {type:\"date\"}\n",
        "\n",
        "print(\"My gender is \"+ str(Gender))\n",
        "print(\"My birthdate is \"+ str(Birthdate))\n"
      ]
    }
  ]
}