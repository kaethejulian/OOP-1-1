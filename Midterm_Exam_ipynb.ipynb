{
  "nbformat": 4,
  "nbformat_minor": 0,
  "metadata": {
    "colab": {
      "name": "Midterm Exam ipynb",
      "provenance": [],
      "authorship_tag": "ABX9TyP7VL3S2tFiSsnksTfCxIKA",
      "include_colab_link": true
    },
    "kernelspec": {
      "name": "python3",
      "display_name": "Python 3"
    },
    "language_info": {
      "name": "python"
    }
  },
  "cells": [
    {
      "cell_type": "markdown",
      "metadata": {
        "id": "view-in-github",
        "colab_type": "text"
      },
      "source": [
        "<a href=\"https://colab.research.google.com/github/kaethejulian/OOP-1-1/blob/main/Midterm_Exam_ipynb.ipynb\" target=\"_parent\"><img src=\"https://colab.research.google.com/assets/colab-badge.svg\" alt=\"Open In Colab\"/></a>"
      ]
    },
    {
      "cell_type": "markdown",
      "source": [
        "Program 1: Modify the program below by adding two conversion methods - Fahrenheit to Celsius and Kelvin to Celsius (50 points)"
      ],
      "metadata": {
        "id": "A6nG61OnIHH6"
      }
    },
    {
      "cell_type": "code",
      "source": [
        "def main():\n",
        " class TemperatureConversion:\n",
        "  def __init__(self, temp=1):\n",
        "   self._temp = temp\n",
        " class CelsiusToFahrenheit(TemperatureConversion):\n",
        "  def conversion(self):\n",
        "   return round((self._temp * 9) / 5 + 32,2)\n",
        " class CelsiusToKelvin(TemperatureConversion):\n",
        "  def conversion(self):\n",
        "   return round(self._temp + 273.15,2)\n",
        " class FahrenheitToCelsius (TemperatureConversion):\n",
        "   def conversion(self):\n",
        "     return round((self._temp - 32) * 5/9,2)\n",
        " class KelvinToCelsius (TemperatureConversion):\n",
        "   def conversion(self):\n",
        "     return round(self._temp - 273.15,2)\n",
        "\n",
        "\n",
        " TemperatureInCelsius = float(input(\"Enter the temperature in Celsius: \"))\n",
        " convert = CelsiusToKelvin(TemperatureInCelsius)\n",
        " print(str(convert.conversion()) + \" Kelvin\")\n",
        " convert = CelsiusToFahrenheit(TemperatureInCelsius)\n",
        " print(str(convert.conversion()) + \" Fahrenheit\")\n",
        " TemperatureInFahrenheit = float(input(\"Enter the temperature in Fahrenheit: \"))\n",
        " convert = FahrenheitToCelsius(TemperatureInFahrenheit)\n",
        " print(str(convert.conversion()) + \" Celsius\")\n",
        " TempInKelvin = float(input(\"Enter the temperature in Kelvin: \"))\n",
        " convert = KelvinToCelsius(TempInKelvin)\n",
        " print(str(convert.conversion()) + \" Celsius\")\n",
        "\n",
        "main()"
      ],
      "metadata": {
        "colab": {
          "base_uri": "https://localhost:8080/"
        },
        "id": "j5V7MX9BbjQ2",
        "outputId": "9cde5411-3e6b-46ed-87d5-e8ad20778c14"
      },
      "execution_count": 23,
      "outputs": [
        {
          "output_type": "stream",
          "name": "stdout",
          "text": [
            "Enter the temperature in Celsius: 19\n",
            "292.15 Kelvin\n",
            "66.2 Fahrenheit\n",
            "Enter the temperature in Fahrenheit: 21\n",
            "-6.11 Celsius\n",
            "Enter the temperature in Kelvin: 26\n",
            "-247.15 Celsius\n"
          ]
        }
      ]
    }
  ]
}