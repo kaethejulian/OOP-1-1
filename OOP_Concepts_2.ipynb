{
  "nbformat": 4,
  "nbformat_minor": 0,
  "metadata": {
    "colab": {
      "name": "OOP Concepts 2.ipynb",
      "provenance": [],
      "authorship_tag": "ABX9TyOMubRxBjRW+e2HsqFbkLFx",
      "include_colab_link": true
    },
    "kernelspec": {
      "name": "python3",
      "display_name": "Python 3"
    },
    "language_info": {
      "name": "python"
    }
  },
  "cells": [
    {
      "cell_type": "markdown",
      "metadata": {
        "id": "view-in-github",
        "colab_type": "text"
      },
      "source": [
        "<a href=\"https://colab.research.google.com/github/kaethejulian/OOP-1-1/blob/main/OOP_Concepts_2.ipynb\" target=\"_parent\"><img src=\"https://colab.research.google.com/assets/colab-badge.svg\" alt=\"Open In Colab\"/></a>"
      ]
    },
    {
      "cell_type": "markdown",
      "source": [
        "Classes with multiple objects"
      ],
      "metadata": {
        "id": "GoGtHcC8LDJs"
      }
    },
    {
      "cell_type": "code",
      "execution_count": 16,
      "metadata": {
        "colab": {
          "base_uri": "https://localhost:8080/"
        },
        "id": "m1a1E9LiJjom",
        "outputId": "fa8a892c-3acb-4fdb-8e78-56de070dfa74"
      },
      "outputs": [
        {
          "output_type": "stream",
          "name": "stdout",
          "text": [
            "Griffon Vulture flies above the sky\n",
            "Common Crane flies above the sky\n",
            "Emu is the national bird of Australia\n"
          ]
        }
      ],
      "source": [
        "class Birds:\n",
        "  def __init__(self,birds_name):\n",
        "    self.birds_name = birds_name\n",
        "  def flying_birds(self):\n",
        "    print(f'{self.birds_name} flies above the sky')\n",
        "  def non_flying_birds(self):\n",
        "    print(f'{self.birds_name} is the national bird of Australia')\n",
        "\n",
        "vulture = Birds(\"Griffon Vulture\")\n",
        "crane = Birds(\"Common Crane\")\n",
        "emu = Birds(\"Emu\")\n",
        "\n",
        "vulture.flying_birds()\n",
        "crane.flying_birds()\n",
        "emu.non_flying_birds()\n"
      ]
    },
    {
      "cell_type": "code",
      "source": [
        "class foo:\n",
        "  def __init__(self,a,b):\n",
        "    self.a=a\n",
        "    self.b=b\n",
        "  def add(self):\n",
        "    return self.a+self.b\n",
        "object_foo = foo(3,4)\n",
        "object_foo.add()\n",
        "\n",
        "object_foo.a=6\n",
        "object_foo.add()"
      ],
      "metadata": {
        "colab": {
          "base_uri": "https://localhost:8080/"
        },
        "id": "273Pq8PSOwpY",
        "outputId": "34491c9c-4ebb-4818-90cd-a4cc6bf9ac2f"
      },
      "execution_count": 18,
      "outputs": [
        {
          "output_type": "execute_result",
          "data": {
            "text/plain": [
              "10"
            ]
          },
          "metadata": {},
          "execution_count": 18
        }
      ]
    },
    {
      "cell_type": "markdown",
      "source": [
        "Encapsulation (mangling with double underscore)"
      ],
      "metadata": {
        "id": "HgFEsrnlPtSr"
      }
    },
    {
      "cell_type": "code",
      "source": [
        "class foo:\n",
        "  def __init__(self,a,b):\n",
        "    self.__a=a\n",
        "    self.__b=b\n",
        "  def add(self):\n",
        "    return self.__a+self.__b\n",
        "object_foo = foo(3,4)\n",
        "object_foo.add()\n",
        "\n",
        "object_foo.a=6\n",
        "object_foo.add()"
      ],
      "metadata": {
        "colab": {
          "base_uri": "https://localhost:8080/"
        },
        "id": "S7NwNZSyParv",
        "outputId": "1846d429-ad25-468f-a767-76f4140cc8b3"
      },
      "execution_count": 22,
      "outputs": [
        {
          "output_type": "execute_result",
          "data": {
            "text/plain": [
              "7"
            ]
          },
          "metadata": {},
          "execution_count": 22
        }
      ]
    },
    {
      "cell_type": "code",
      "source": [
        "class Counter:\n",
        "    def __init__(self):\n",
        "        self.current = 0\n",
        "\n",
        "    def increment(self):\n",
        "        self.current += 1\n",
        "\n",
        "    def value(self):\n",
        "        return self.current\n"
      ],
      "metadata": {
        "id": "mCTxj3KMQmxG"
      },
      "execution_count": 25,
      "outputs": []
    },
    {
      "cell_type": "code",
      "source": [
        "class Counter:\n",
        "    def __init__(self):\n",
        "        self.__current = 0\n",
        "    def increment(self):\n",
        "        self.__current+=1\n",
        "    def value(self):\n",
        "      return self.__current\n",
        "    def reset(self):\n",
        "      self.__current = 0\n",
        "\n",
        "number=Counter()\n",
        "number.increment()\n",
        "number.increment()\n",
        "number.increment()\n",
        "\n",
        "print(number.value())"
      ],
      "metadata": {
        "colab": {
          "base_uri": "https://localhost:8080/"
        },
        "id": "uUxvgNSuRaQh",
        "outputId": "8bdc862c-cf25-4d26-9ca6-7f756fbfd656"
      },
      "execution_count": 30,
      "outputs": [
        {
          "output_type": "stream",
          "name": "stdout",
          "text": [
            "3\n"
          ]
        }
      ]
    },
    {
      "cell_type": "code",
      "source": [
        "class Counter:\n",
        "    def __init__(self):\n",
        "        self.__current =0\n",
        "    def increment(self):\n",
        "        self.__current+=1\n",
        "    def value(self):\n",
        "      return self.__current\n",
        "    def reset(self):\n",
        "      self.__current =0\n",
        "\n",
        "number=Counter()\n",
        "number.increment()\n",
        "number.increment()\n",
        "number.increment()\n",
        "number.__current=1\n",
        "\n",
        "print(number.value())"
      ],
      "metadata": {
        "colab": {
          "base_uri": "https://localhost:8080/"
        },
        "id": "4ce3ehjVS6wQ",
        "outputId": "f6a6aa9e-d714-463c-d156-8a724bfda983"
      },
      "execution_count": 38,
      "outputs": [
        {
          "output_type": "stream",
          "name": "stdout",
          "text": [
            "3\n"
          ]
        }
      ]
    },
    {
      "cell_type": "markdown",
      "source": [
        "Inheritance"
      ],
      "metadata": {
        "id": "SCLye_L_Tquv"
      }
    },
    {
      "cell_type": "code",
      "source": [
        "class Person:\n",
        "  def __init__(self,firstname,surname):\n",
        "    self.firstname=firstname\n",
        "    self.surname=surname\n",
        "\n",
        "  def fullname(self):\n",
        "    print(self.firstname,self.surname)\n",
        "  \n",
        "person = Person(\"Ma.Kaethe Joy\",\"Julian\")\n",
        "person.fullname()\n",
        "\n",
        "class Student(Person):\n",
        "  pass\n",
        "person2=Student(\"Ma.Kaethe Joy\",\"Julian\")\n",
        "person2.fullname()\n",
        "\n",
        "class cutie(Person):\n",
        "  pass\n",
        "person3=cutie(\"Ma.Kaethe Joy\",\"Julian\")\n",
        "person3.fullname()"
      ],
      "metadata": {
        "colab": {
          "base_uri": "https://localhost:8080/"
        },
        "id": "o-gKYJiAThMm",
        "outputId": "d2dcd85e-5b97-4853-9c7e-b63bc5961c53"
      },
      "execution_count": 51,
      "outputs": [
        {
          "output_type": "stream",
          "name": "stdout",
          "text": [
            "Ma.Kaethe Joy Julian\n",
            "Ma.Kaethe Joy Julian\n",
            "Ma.Kaethe Joy Julian\n"
          ]
        }
      ]
    },
    {
      "cell_type": "markdown",
      "source": [
        "Polymorphism"
      ],
      "metadata": {
        "id": "ARtgCtPfWXjO"
      }
    },
    {
      "cell_type": "code",
      "source": [
        "class RegularPolygon:\n",
        "  def __init__(self,side):\n",
        "    self.side=side\n",
        "class Square(RegularPolygon):\n",
        "  def area(self):\n",
        "    return self.side*self.side\n",
        "class EquilateralTriangle(RegularPolygon):\n",
        "  def area(self):\n",
        "    return self.side*self.side*0.433\n",
        "obj1=Square(4)\n",
        "print(obj1.area())\n",
        "\n",
        "obj2=EquilateralTriangle(3)\n",
        "print(obj2.area())"
      ],
      "metadata": {
        "colab": {
          "base_uri": "https://localhost:8080/"
        },
        "id": "ZHamNinpWhbQ",
        "outputId": "9f4bfa33-9a3e-4e13-e5f1-6f750569fe5b"
      },
      "execution_count": 56,
      "outputs": [
        {
          "output_type": "stream",
          "name": "stdout",
          "text": [
            "16\n",
            "3.897\n"
          ]
        }
      ]
    }
  ]
}